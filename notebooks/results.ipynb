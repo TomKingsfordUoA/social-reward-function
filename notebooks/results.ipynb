{
 "cells": [
  {
   "cell_type": "code",
   "execution_count": 1,
   "metadata": {
    "collapsed": true
   },
   "outputs": [],
   "source": [
    "import pathlib\n",
    "from pprint import pprint\n",
    "import re\n",
    "\n",
    "import pandas as pd\n",
    "import seaborn as sns\n",
    "import matplotlib.pyplot as plt"
   ]
  },
  {
   "cell_type": "markdown",
   "source": [
    "# Load data"
   ],
   "metadata": {
    "collapsed": false,
    "pycharm": {
     "name": "#%% md\n"
    }
   }
  },
  {
   "cell_type": "markdown",
   "source": [
    "The dataset referenced in this notebook consists of videos retrieved from YouTube involving human interactions, which were sliced into 10s segments. These segments were annotated by hand with a reward of `2` for strongly positive, `1` for slightly positive, `0` for neutral, `-1` for slightly negative, or `-2` for strongly negative. Segments and videos containing voice overlays, absent humans, etc. were filtered out.\n",
    "\n",
    "Annotation instructions about what \"postive\" or \"negative\" means refer explicitly to whether a robot should be reward for causing the situation to occur. Therefore, for instance, heated debates could be marked as positive while displaying ostensibly negative emotions (such as apparent anger)."
   ],
   "metadata": {
    "collapsed": false,
    "pycharm": {
     "name": "#%% md\n"
    }
   }
  },
  {
   "cell_type": "code",
   "execution_count": 2,
   "outputs": [
    {
     "name": "stdout",
     "output_type": "stream",
     "text": [
      "Index(['gt_reward', 'combined_reward', 'audio_reward', 'video_reward',\n",
      "       'presence_reward', 'human_detected', 'audio_happy', 'audio_neutral',\n",
      "       'audio_sad', 'audio_angry', 'audio_fearful', 'audio_disgusted',\n",
      "       'audio_surprised', 'video_happy', 'video_neutral', 'video_sad',\n",
      "       'video_angry', 'video_fearful', 'video_disgusted', 'video_surprised'],\n",
      "      dtype='object')\n",
      "(487, 20)\n"
     ]
    }
   ],
   "source": [
    "files = list(pathlib.Path('../results/').glob('**/*.csv'))\n",
    "data = [pd.read_csv(file, index_col=0).drop(columns='timestamp_s').mean().to_dict() for file in files]\n",
    "df = pd.DataFrame(data=data, index=list(files))\n",
    "pprint(df.columns)\n",
    "print(df.shape)"
   ],
   "metadata": {
    "collapsed": false,
    "pycharm": {
     "name": "#%%\n"
    }
   }
  },
  {
   "cell_type": "code",
   "execution_count": 3,
   "outputs": [
    {
     "name": "stdout",
     "output_type": "stream",
     "text": [
      "len(unique_source_videos)=75\n"
     ]
    }
   ],
   "source": [
    "unique_source_videos = {re.match('(.*)_(\\d+).csv', path.name).groups()[0] for path in df.index}\n",
    "print(f'len(unique_source_videos)={len(unique_source_videos)}')"
   ],
   "metadata": {
    "collapsed": false,
    "pycharm": {
     "name": "#%%\n"
    }
   }
  },
  {
   "cell_type": "code",
   "execution_count": 4,
   "outputs": [
    {
     "name": "stdout",
     "output_type": "stream",
     "text": [
      "(437, 20)\n"
     ]
    }
   ],
   "source": [
    "# Drop d7Vqb2e... videos as these are Keanu Reeves and he is difficult to classify\n",
    "df = df.drop(labels=[label for label in df.index if re.match('d7Vqb2e.*', str(label.name)) is not None])\n",
    "print(df.shape)"
   ],
   "metadata": {
    "collapsed": false,
    "pycharm": {
     "name": "#%%\n"
    }
   }
  },
  {
   "cell_type": "markdown",
   "source": [
    "# Plot reward versus ground truth"
   ],
   "metadata": {
    "collapsed": false,
    "pycharm": {
     "name": "#%% md\n"
    }
   }
  },
  {
   "cell_type": "code",
   "execution_count": 5,
   "outputs": [],
   "source": [
    "dir_figures = pathlib.Path('figures')\n",
    "dir_figures.mkdir(parents=True, exist_ok=True)"
   ],
   "metadata": {
    "collapsed": false,
    "pycharm": {
     "name": "#%%\n"
    }
   }
  },
  {
   "cell_type": "code",
   "execution_count": 6,
   "outputs": [
    {
     "name": "stderr",
     "output_type": "stream",
     "text": [
      "/home/tom/Documents/projects/social_robotics_reward/venv/lib/python3.7/site-packages/seaborn/_decorators.py:43: FutureWarning: Pass the following variables as keyword args: x, y. From version 0.12, the only valid positional argument will be `data`, and passing other arguments without an explicit keyword will result in an error or misinterpretation.\n",
      "  FutureWarning\n"
     ]
    },
    {
     "data": {
      "text/plain": "<Figure size 432x288 with 1 Axes>",
      "image/png": "[encoded data removed]"
     },
     "metadata": {
      "needs_background": "light"
     },
     "output_type": "display_data"
    }
   ],
   "source": [
    "sns.scatterplot(df['gt_reward'], df['combined_reward'])\n",
    "plt.savefig(str(dir_figures.joinpath('scatter_combined_reward')))"
   ],
   "metadata": {
    "collapsed": false,
    "pycharm": {
     "name": "#%%\n"
    }
   }
  },
  {
   "cell_type": "code",
   "execution_count": 7,
   "outputs": [
    {
     "name": "stderr",
     "output_type": "stream",
     "text": [
      "/home/tom/Documents/projects/social_robotics_reward/venv/lib/python3.7/site-packages/seaborn/_decorators.py:43: FutureWarning: Pass the following variables as keyword args: x, y. From version 0.12, the only valid positional argument will be `data`, and passing other arguments without an explicit keyword will result in an error or misinterpretation.\n",
      "  FutureWarning\n"
     ]
    },
    {
     "data": {
      "text/plain": "<Figure size 432x288 with 1 Axes>",
      "image/png": "[encoded data removed]"
     },
     "metadata": {
      "needs_background": "light"
     },
     "output_type": "display_data"
    }
   ],
   "source": [
    "sns.boxplot(df['gt_reward'], df['combined_reward'])\n",
    "plt.savefig(str(dir_figures.joinpath('box_combined_reward')))"
   ],
   "metadata": {
    "collapsed": false,
    "pycharm": {
     "name": "#%%\n"
    }
   }
  },
  {
   "cell_type": "code",
   "execution_count": 41,
   "outputs": [
    {
     "name": "stdout",
     "output_type": "stream",
     "text": [
      "         count   mean    std    min   25th   50th   75th    max\n",
      "overall  437.0  0.027  0.252 -0.567 -0.161  0.019  0.201  0.907\n",
      "-2.0      29.0 -0.258  0.143 -0.567 -0.342 -0.275 -0.187  0.106\n",
      "-1.0      26.0 -0.033  0.223 -0.396 -0.178 -0.046  0.079  0.371\n",
      "0.0      158.0 -0.087  0.227 -0.538 -0.288 -0.119  0.071  0.466\n",
      "1.0      205.0  0.145  0.210 -0.377  0.001  0.108  0.262  0.907\n",
      "2.0       19.0  0.215  0.213 -0.232  0.082  0.206  0.362  0.596\n"
     ]
    }
   ],
   "source": [
    "descriptive_stats_gt = pd.concat([\n",
    "    pd.DataFrame(data=[df['combined_reward'].describe().to_dict()], index=['overall']),\n",
    "    pd.DataFrame(data=[df[df['gt_reward'] == gt]['combined_reward'].describe().to_dict() for gt in sorted(set(df['gt_reward']))], index=sorted(set(df['gt_reward']))),\n",
    "]).round(3).rename(columns={'25%': '25th', '50%': '50th', '75%': '75th'})\n",
    "print(descriptive_stats_gt)\n",
    "descriptive_stats_gt.to_csv(str(dir_figures.joinpath('descriptive_stats_gt.csv')), header=True, index=True)"
   ],
   "metadata": {
    "collapsed": false,
    "pycharm": {
     "name": "#%%\n"
    }
   }
  },
  {
   "cell_type": "code",
   "execution_count": 9,
   "outputs": [
    {
     "name": "stderr",
     "output_type": "stream",
     "text": [
      "/home/tom/Documents/projects/social_robotics_reward/venv/lib/python3.7/site-packages/seaborn/_decorators.py:43: FutureWarning: Pass the following variables as keyword args: x, y. From version 0.12, the only valid positional argument will be `data`, and passing other arguments without an explicit keyword will result in an error or misinterpretation.\n",
      "  FutureWarning\n"
     ]
    },
    {
     "data": {
      "text/plain": "<Figure size 432x288 with 1 Axes>",
      "image/png": "[encoded data removed]"
     },
     "metadata": {
      "needs_background": "light"
     },
     "output_type": "display_data"
    }
   ],
   "source": [
    "sns.lineplot(df['gt_reward'], df['combined_reward'])\n",
    "plt.savefig(str(dir_figures.joinpath('line_combined_reward')))"
   ],
   "metadata": {
    "collapsed": false,
    "pycharm": {
     "name": "#%%\n"
    }
   }
  },
  {
   "cell_type": "code",
   "execution_count": 10,
   "outputs": [
    {
     "data": {
      "text/plain": "<Figure size 432x288 with 1 Axes>",
      "image/png": "[encoded data removed]"
     },
     "metadata": {
      "needs_background": "light"
     },
     "output_type": "display_data"
    }
   ],
   "source": [
    "sns.histplot(df['presence_reward'])\n",
    "plt.savefig(str(dir_figures.joinpath('hist_presence_reward')))"
   ],
   "metadata": {
    "collapsed": false,
    "pycharm": {
     "name": "#%%\n"
    }
   }
  },
  {
   "cell_type": "markdown",
   "source": [
    "# Correlations with ground truth"
   ],
   "metadata": {
    "collapsed": false,
    "pycharm": {
     "name": "#%% md\n"
    }
   }
  },
  {
   "cell_type": "code",
   "execution_count": 40,
   "outputs": [
    {
     "name": "stdout",
     "output_type": "stream",
     "text": [
      "Correlations with gt_reward:\n",
      "gt reward          1.000\n",
      "combined reward    0.491\n",
      "audio reward       0.142\n",
      "video reward       0.486\n",
      "Name: gt reward, dtype: float64\n"
     ]
    }
   ],
   "source": [
    "print('Correlations with gt_reward:')\n",
    "correlations_with_gt = df[['gt_reward', 'combined_reward', 'audio_reward', 'video_reward']].corr(method='pearson')['gt_reward'].round(3)\n",
    "correlations_with_gt = correlations_with_gt.rename(index={label: re.sub('_', ' ', label) for label in correlations_with_gt.index})\n",
    "correlations_with_gt = correlations_with_gt.rename(re.sub('_', ' ', correlations_with_gt.name))\n",
    "print(correlations_with_gt)\n",
    "correlations_with_gt.to_csv(str(dir_figures.joinpath('correlations_with_gt.csv')), header=True, index=True)"
   ],
   "metadata": {
    "collapsed": false,
    "pycharm": {
     "name": "#%%\n"
    }
   }
  },
  {
   "cell_type": "markdown",
   "source": [
    "# Shapes of individual reward distributions:"
   ],
   "metadata": {
    "collapsed": false,
    "pycharm": {
     "name": "#%% md\n"
    }
   }
  },
  {
   "cell_type": "code",
   "execution_count": 42,
   "outputs": [
    {
     "name": "stdout",
     "output_type": "stream",
     "text": [
      "                 count   mean    std    min   25th   50th   75th    max\n",
      "combined reward  437.0  0.027  0.252 -0.567 -0.161  0.019  0.201  0.907\n",
      "audio reward     437.0 -0.070  0.148 -0.394 -0.180 -0.137  0.013  0.362\n",
      "video reward     437.0 -0.009  0.277 -0.678 -0.218 -0.006  0.173  0.969\n"
     ]
    }
   ],
   "source": [
    "descriptive_stats = df[['combined_reward', 'audio_reward', 'video_reward']].describe().round(3).transpose().rename(columns={'25%': '25th', '50%': '50th', '75%': '75th'})\n",
    "descriptive_stats = descriptive_stats.rename(index={label: re.sub('_', ' ', label) for label in descriptive_stats.index})\n",
    "print(descriptive_stats)\n",
    "descriptive_stats.to_csv(str(dir_figures.joinpath('descriptive_stats.csv')), header=True, index=True)"
   ],
   "metadata": {
    "collapsed": false,
    "pycharm": {
     "name": "#%%\n"
    }
   }
  },
  {
   "cell_type": "code",
   "execution_count": 13,
   "outputs": [
    {
     "data": {
      "text/plain": "<Figure size 432x288 with 1 Axes>",
      "image/png": "[encoded data removed]"
     },
     "metadata": {
      "needs_background": "light"
     },
     "output_type": "display_data"
    }
   ],
   "source": [
    "sns.histplot(df['gt_reward'])\n",
    "plt.savefig(str(dir_figures.joinpath('hist_gt_reward')))"
   ],
   "metadata": {
    "collapsed": false,
    "pycharm": {
     "name": "#%%\n"
    }
   }
  },
  {
   "cell_type": "code",
   "execution_count": 14,
   "outputs": [
    {
     "data": {
      "text/plain": "<Figure size 432x288 with 1 Axes>",
      "image/png": "[encoded data removed]"
     },
     "metadata": {
      "needs_background": "light"
     },
     "output_type": "display_data"
    }
   ],
   "source": [
    "sns.histplot(df['combined_reward'])\n",
    "plt.savefig(str(dir_figures.joinpath('hist_combined_reward')))"
   ],
   "metadata": {
    "collapsed": false,
    "pycharm": {
     "name": "#%%\n"
    }
   }
  },
  {
   "cell_type": "code",
   "source": [
    "sns.histplot(df['audio_reward'])\n",
    "plt.savefig(str(dir_figures.joinpath('hist_audio_reward')))"
   ],
   "metadata": {
    "collapsed": false,
    "pycharm": {
     "name": "#%%\n"
    }
   },
   "execution_count": 15,
   "outputs": [
    {
     "data": {
      "text/plain": "<Figure size 432x288 with 1 Axes>",
      "image/png": "[encoded data removed]"
     },
     "metadata": {
      "needs_background": "light"
     },
     "output_type": "display_data"
    }
   ]
  },
  {
   "cell_type": "code",
   "execution_count": 16,
   "outputs": [
    {
     "data": {
      "text/plain": "<Figure size 432x288 with 1 Axes>",
      "image/png": "[encoded data removed]"
     },
     "metadata": {
      "needs_background": "light"
     },
     "output_type": "display_data"
    }
   ],
   "source": [
    "sns.histplot(df['video_reward'])\n",
    "plt.savefig(str(dir_figures.joinpath('hist_video_reward')))"
   ],
   "metadata": {
    "collapsed": false,
    "pycharm": {
     "name": "#%%\n"
    }
   }
  },
  {
   "cell_type": "markdown",
   "source": [
    "# Observe some of the \"failures\""
   ],
   "metadata": {
    "collapsed": false,
    "pycharm": {
     "name": "#%% md\n"
    }
   }
  },
  {
   "cell_type": "markdown",
   "source": [
    "Assertive but emotionally netural (perhaps emotion = passionate?) cases are definitely poorly handled by this model. They tend to be predicted as angry/fearful, when ground truth is neutral. Probably sufficiently appropriate in a robotics situation (you don't want an opinionated argument with someone), but worth developing better expressiveness to separate unemotional neutral from passionate (but not angry/sad/...) in the future.\n",
    "\n",
    "Future versions of the model should probably explicitly predict arousal in addition to valence (positive/negative) to account for this effect."
   ],
   "metadata": {
    "collapsed": false,
    "pycharm": {
     "name": "#%% md\n"
    }
   }
  },
  {
   "cell_type": "code",
   "execution_count": 17,
   "outputs": [
    {
     "data": {
      "text/plain": "gt_reward          0.000000\ncombined_reward   -0.290539\naudio_reward      -0.178259\nvideo_reward      -0.349311\npresence_reward    0.041667\nhuman_detected     0.833333\naudio_happy        0.058738\naudio_neutral      0.505917\naudio_sad          0.227614\naudio_angry        0.144580\naudio_fearful      0.031455\naudio_disgusted    0.023529\naudio_surprised    0.008167\nvideo_happy        0.003396\nvideo_neutral      0.171270\nvideo_sad          0.223186\nvideo_angry        0.512231\nvideo_fearful      0.016397\nvideo_disgusted    0.050149\nvideo_surprised    0.023371\nName: ../results/0_neutral/Eug1You8SH0_29.csv, dtype: float64"
     },
     "execution_count": 17,
     "metadata": {},
     "output_type": "execute_result"
    }
   ],
   "source": [
    "# 25th percentile:\n",
    "df_0 = df[df['gt_reward'] == 0].sort_values(by='combined_reward', ascending=True)\n",
    "df_0.iloc[int(len(df_0) * 0.25)]\n",
    "# guy perhaps defensive or assertive in an argument about animal rights"
   ],
   "metadata": {
    "collapsed": false,
    "pycharm": {
     "name": "#%%\n"
    }
   }
  },
  {
   "cell_type": "code",
   "execution_count": 18,
   "outputs": [
    {
     "data": {
      "text/plain": "gt_reward          0.000000\ncombined_reward   -0.295711\naudio_reward      -0.196489\nvideo_reward      -0.343773\npresence_reward    0.033333\nhuman_detected     0.666667\naudio_happy        0.088858\naudio_neutral      0.393525\naudio_sad          0.299285\naudio_angry        0.140120\naudio_fearful      0.030752\naudio_disgusted    0.039081\naudio_surprised    0.008379\nvideo_happy        0.041571\nvideo_neutral      0.026909\nvideo_sad          0.141497\nvideo_angry        0.351208\nvideo_fearful      0.345474\nvideo_disgusted    0.008050\nvideo_surprised    0.085291\nName: ../results/0_neutral/vnMYL8sF7bQ_12.csv, dtype: float64"
     },
     "execution_count": 18,
     "metadata": {},
     "output_type": "execute_result"
    }
   ],
   "source": [
    "# 25th percentile (-1):\n",
    "df_0 = df[df['gt_reward'] == 0].sort_values(by='combined_reward', ascending=True)\n",
    "df_0.iloc[int(len(df_0) * 0.25)-1]\n",
    "# incorrect; low quality video of rabbi talking at podium"
   ],
   "metadata": {
    "collapsed": false,
    "pycharm": {
     "name": "#%%\n"
    }
   }
  },
  {
   "cell_type": "code",
   "execution_count": 19,
   "outputs": [
    {
     "data": {
      "text/plain": "gt_reward          0.000000\ncombined_reward   -0.296522\naudio_reward      -0.199856\nvideo_reward      -0.354882\npresence_reward    0.042857\nhuman_detected     0.857143\naudio_happy        0.048135\naudio_neutral      0.504784\naudio_sad          0.229082\naudio_angry        0.138003\naudio_fearful      0.033527\naudio_disgusted    0.036104\naudio_surprised    0.010365\nvideo_happy        0.001591\nvideo_neutral      0.248062\nvideo_sad          0.276541\nvideo_angry        0.159103\nvideo_fearful      0.069806\nvideo_disgusted    0.166960\nvideo_surprised    0.077937\nName: ../results/0_neutral/qoPSnFJxkrw_14.csv, dtype: float64"
     },
     "execution_count": 19,
     "metadata": {},
     "output_type": "execute_result"
    }
   ],
   "source": [
    "# 25th percentile (-2):\n",
    "df_0 = df[df['gt_reward'] == 0].sort_values(by='combined_reward', ascending=True)\n",
    "df_0.iloc[int(len(df_0) * 0.25)-2]\n",
    "# Chris D'Elia podcast; his delivery is quite aggressive and unsurprisingly is incorrect classified; incorrect nonetheless"
   ],
   "metadata": {
    "collapsed": false,
    "pycharm": {
     "name": "#%%\n"
    }
   }
  },
  {
   "cell_type": "code",
   "execution_count": 20,
   "outputs": [
    {
     "data": {
      "text/plain": "gt_reward          0.000000\ncombined_reward   -0.538076\naudio_reward      -0.249538\nvideo_reward      -0.620136\npresence_reward    0.045000\nhuman_detected     0.900000\naudio_happy        0.105509\naudio_neutral      0.227675\naudio_sad          0.468901\naudio_angry        0.132967\naudio_fearful      0.019292\naudio_disgusted    0.038432\naudio_surprised    0.007223\nvideo_happy        0.001623\nvideo_neutral      0.015153\nvideo_sad          0.021956\nvideo_angry        0.520335\nvideo_fearful      0.004414\nvideo_disgusted    0.422242\nvideo_surprised    0.014277\nName: ../results/0_neutral/xLrlCYS0Mao_21.csv, dtype: float64"
     },
     "execution_count": 20,
     "metadata": {},
     "output_type": "execute_result"
    }
   ],
   "source": [
    "# 0th percentile:\n",
    "df_0 = df[df['gt_reward'] == 0].sort_values(by='combined_reward', ascending=True)\n",
    "df_0.iloc[0]\n",
    "# \"you can't have any respect for someone who acts like that\" - incorrectly annotated"
   ],
   "metadata": {
    "collapsed": false,
    "pycharm": {
     "name": "#%%\n"
    }
   }
  },
  {
   "cell_type": "code",
   "execution_count": 21,
   "outputs": [
    {
     "data": {
      "text/plain": "gt_reward          0.000000\ncombined_reward   -0.419588\naudio_reward      -0.177041\nvideo_reward      -0.492834\npresence_reward    0.041667\nhuman_detected     0.833333\naudio_happy        0.060005\naudio_neutral      0.506227\naudio_sad          0.218210\naudio_angry        0.139307\naudio_fearful      0.036965\naudio_disgusted    0.027310\naudio_surprised    0.011975\nvideo_happy        0.001129\nvideo_neutral      0.035157\nvideo_sad          0.352747\nvideo_angry        0.323859\nvideo_fearful      0.202013\nvideo_disgusted    0.063174\nvideo_surprised    0.021920\nName: ../results/0_neutral/mz51C3Rx6DE_76.csv, dtype: float64"
     },
     "execution_count": 21,
     "metadata": {},
     "output_type": "execute_result"
    }
   ],
   "source": [
    "# 0th percentile (+1):\n",
    "df_0 = df[df['gt_reward'] == 0].sort_values(by='combined_reward', ascending=True)\n",
    "df_0.iloc[1]\n",
    "# Robert Gates neutral; definitely incorrect"
   ],
   "metadata": {
    "collapsed": false,
    "pycharm": {
     "name": "#%%\n"
    }
   }
  },
  {
   "cell_type": "code",
   "execution_count": 22,
   "outputs": [
    {
     "data": {
      "text/plain": "gt_reward          0.000000\ncombined_reward   -0.418751\naudio_reward      -0.130278\nvideo_reward      -0.500804\npresence_reward    0.045000\nhuman_detected     0.900000\naudio_happy        0.092000\naudio_neutral      0.503291\naudio_sad          0.209382\naudio_angry        0.120853\naudio_fearful      0.043912\naudio_disgusted    0.019020\naudio_surprised    0.011543\nvideo_happy        0.002428\nvideo_neutral      0.034804\nvideo_sad          0.026742\nvideo_angry        0.584678\nvideo_fearful      0.005813\nvideo_disgusted    0.280081\nvideo_surprised    0.065454\nName: ../results/0_neutral/xLrlCYS0Mao_22.csv, dtype: float64"
     },
     "execution_count": 22,
     "metadata": {},
     "output_type": "execute_result"
    }
   ],
   "source": [
    "# 0th percentile (+2):\n",
    "df_0 = df[df['gt_reward'] == 0].sort_values(by='combined_reward', ascending=True)\n",
    "df_0.iloc[2]\n",
    "# talking heads on news; man talking is netural, woman is displeased hence a difficult definition case"
   ],
   "metadata": {
    "collapsed": false,
    "pycharm": {
     "name": "#%%\n"
    }
   }
  },
  {
   "cell_type": "code",
   "execution_count": 23,
   "outputs": [
    {
     "data": {
      "text/plain": "gt_reward          0.000000\ncombined_reward   -0.402115\naudio_reward      -0.181729\nvideo_reward      -0.472899\npresence_reward    0.041667\nhuman_detected     0.833333\naudio_happy        0.057076\naudio_neutral      0.506579\naudio_sad          0.233264\naudio_angry        0.138165\naudio_fearful      0.031470\naudio_disgusted    0.025562\naudio_surprised    0.007884\nvideo_happy        0.003499\nvideo_neutral      0.200190\nvideo_sad          0.024797\nvideo_angry        0.359886\nvideo_fearful      0.040098\nvideo_disgusted    0.349536\nvideo_surprised    0.021995\nName: ../results/0_neutral/AAUjdjqUk_w_21.csv, dtype: float64"
     },
     "execution_count": 23,
     "metadata": {},
     "output_type": "execute_result"
    }
   ],
   "source": [
    "# 0th percentile (+3):\n",
    "df_0 = df[df['gt_reward'] == 0].sort_values(by='combined_reward', ascending=True)\n",
    "df_0.iloc[3]\n",
    "# opinionated man in podcast; not positive or negative but strong emotion; difficult definition case"
   ],
   "metadata": {
    "collapsed": false,
    "pycharm": {
     "name": "#%%\n"
    }
   }
  },
  {
   "cell_type": "code",
   "execution_count": 23,
   "outputs": [],
   "source": [],
   "metadata": {
    "collapsed": false,
    "pycharm": {
     "name": "#%%\n"
    }
   }
  }
 ],
 "metadata": {
  "kernelspec": {
   "display_name": "Python 3",
   "language": "python",
   "name": "python3"
  },
  "language_info": {
   "codemirror_mode": {
    "name": "ipython",
    "version": 2
   },
   "file_extension": ".py",
   "mimetype": "text/x-python",
   "name": "python",
   "nbconvert_exporter": "python",
   "pygments_lexer": "ipython2",
   "version": "2.7.6"
  }
 },
 "nbformat": 4,
 "nbformat_minor": 0
}